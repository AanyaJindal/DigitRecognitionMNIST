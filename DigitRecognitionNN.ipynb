{
 "cells": [
  {
   "cell_type": "code",
   "execution_count": 1,
   "metadata": {
    "collapsed": false
   },
   "outputs": [
    {
     "name": "stderr",
     "output_type": "stream",
     "text": [
      "Using TensorFlow backend.\n"
     ]
    }
   ],
   "source": [
    "from keras.datasets import mnist\n",
    "import matplotlib.pyplot as plt\n",
    "\n",
    "# load the MNIST dataset\n",
    "(X_train, y_train), (X_test, y_test) = mnist.load_data()"
   ]
  },
  {
   "cell_type": "code",
   "execution_count": 2,
   "metadata": {
    "collapsed": false
   },
   "outputs": [
    {
     "data": {
      "image/png": "[encoded data removed]",
      "text/plain": [
       "<matplotlib.figure.Figure at 0x12100a6d8>"
      ]
     },
     "metadata": {},
     "output_type": "display_data"
    }
   ],
   "source": [
    "# plot 4 images as gray scale\n",
    "plt.subplot(221)\n",
    "plt.imshow(X_train[0], cmap=plt.get_cmap('gray'))\n",
    "plt.subplot(222)\n",
    "plt.imshow(X_train[1], cmap=plt.get_cmap('gray'))\n",
    "plt.subplot(223)\n",
    "plt.imshow(X_train[2], cmap=plt.get_cmap('gray'))\n",
    "plt.subplot(224)\n",
    "plt.imshow(X_train[3], cmap=plt.get_cmap('gray'))\n",
    "\n",
    "plt.show()"
   ]
  },
  {
   "cell_type": "code",
   "execution_count": 3,
   "metadata": {
    "collapsed": false
   },
   "outputs": [
    {
     "name": "stdout",
     "output_type": "stream",
     "text": [
      "(60000, 28, 28)\n",
      "(10000, 28, 28)\n",
      "(60000,)\n",
      "(10000,)\n",
      "[5 0 4 ..., 5 6 8]\n",
      "[7 2 1 ..., 4 5 6]\n"
     ]
    }
   ],
   "source": [
    "import numpy as np\n",
    "\n",
    "# understanding the datastructure\n",
    "print(np.shape(X_train))\n",
    "print(np.shape(X_test))\n",
    "print(np.shape(y_train))\n",
    "print(np.shape(y_test))\n",
    "print(y_train)\n",
    "print(y_test)"
   ]
  },
  {
   "cell_type": "code",
   "execution_count": 4,
   "metadata": {
    "collapsed": false
   },
   "outputs": [
    {
     "name": "stdout",
     "output_type": "stream",
     "text": [
      "(784, 60000)\n",
      "(784, 10000)\n",
      "[[0 0 0 ..., 0 0 0]\n",
      " [0 0 0 ..., 0 0 0]\n",
      " [0 0 0 ..., 0 0 0]\n",
      " ..., \n",
      " [0 0 0 ..., 0 0 0]\n",
      " [0 0 0 ..., 0 0 0]\n",
      " [0 0 0 ..., 0 0 0]]\n",
      "[[0 0 0 ..., 0 0 0]\n",
      " [0 0 0 ..., 0 0 0]\n",
      " [0 0 0 ..., 0 0 0]\n",
      " ..., \n",
      " [0 0 0 ..., 0 0 0]\n",
      " [0 0 0 ..., 0 0 0]\n",
      " [0 0 0 ..., 0 0 0]]\n"
     ]
    }
   ],
   "source": [
    "# correct dimensions of X\n",
    "X_train = X_train.reshape(X_train.shape[0], -1).T\n",
    "X_test = X_test.reshape(X_test.shape[0], -1).T\n",
    "print(np.shape(X_train))\n",
    "print(np.shape(X_test))\n",
    "print(X_train)\n",
    "print(X_test)"
   ]
  },
  {
   "cell_type": "code",
   "execution_count": 5,
   "metadata": {
    "collapsed": false
   },
   "outputs": [
    {
     "name": "stdout",
     "output_type": "stream",
     "text": [
      "60000\n",
      "10000\n",
      "(10, 60000)\n",
      "(10, 10000)\n",
      "[[ 0.  1.  0. ...,  0.  0.  0.]\n",
      " [ 0.  0.  0. ...,  0.  0.  0.]\n",
      " [ 0.  0.  0. ...,  0.  0.  0.]\n",
      " ..., \n",
      " [ 0.  0.  0. ...,  0.  0.  0.]\n",
      " [ 0.  0.  0. ...,  0.  0.  1.]\n",
      " [ 0.  0.  0. ...,  0.  0.  0.]]\n",
      "[[ 0.  0.  0. ...,  0.  0.  0.]\n",
      " [ 0.  0.  1. ...,  0.  0.  0.]\n",
      " [ 0.  1.  0. ...,  0.  0.  0.]\n",
      " ..., \n",
      " [ 1.  0.  0. ...,  0.  0.  0.]\n",
      " [ 0.  0.  0. ...,  0.  0.  0.]\n",
      " [ 0.  0.  0. ...,  0.  0.  0.]]\n"
     ]
    }
   ],
   "source": [
    "# correct dimensions of Y\n",
    "m_train = X_train.shape[1]\n",
    "m_test = X_test.shape[1]\n",
    "print(m_train)\n",
    "print(m_test)\n",
    "\n",
    "Y_train = np.zeros((10, m_train))\n",
    "Y_test = np.zeros((10, m_test))\n",
    "\n",
    "for i in range(m_train):\n",
    "    Y_train[y_train[i], i] = 1\n",
    "for i in range(m_test):\n",
    "    Y_test[y_test[i], i] = 1\n",
    "\n",
    "print(np.shape(Y_train))\n",
    "print(np.shape(Y_test))  \n",
    "print(Y_train)\n",
    "print(Y_test)"
   ]
  },
  {
   "cell_type": "code",
   "execution_count": 6,
   "metadata": {
    "collapsed": false
   },
   "outputs": [],
   "source": [
    "# unstandardised data\n",
    "np.set_printoptions(threshold=np.inf)\n",
    "# print(X_train[100])"
   ]
  },
  {
   "cell_type": "code",
   "execution_count": 7,
   "metadata": {
    "collapsed": false
   },
   "outputs": [],
   "source": [
    "# standardised data\n",
    "X_train = X_train/255\n",
    "X_test = X_test/255\n",
    "# print(X_train[100])\n",
    "np.set_printoptions(threshold=1000)"
   ]
  },
  {
   "cell_type": "code",
   "execution_count": 8,
   "metadata": {
    "collapsed": true
   },
   "outputs": [],
   "source": [
    "np.random.seed(2303)"
   ]
  },
  {
   "cell_type": "code",
   "execution_count": 9,
   "metadata": {
    "collapsed": true
   },
   "outputs": [],
   "source": [
    "def init(layer_dims):\n",
    "    #map\n",
    "    parameters = {}\n",
    "    L = len(layer_dims)\n",
    "    for i in range(1, L):\n",
    "        parameters['W'+str(i)] = np.random.randn(layer_dims[i], layer_dims[i-1])*0.01\n",
    "        parameters['b'+str(i)] = np.zeros((layer_dims[i], 1))\n",
    "    return parameters"
   ]
  },
  {
   "cell_type": "code",
   "execution_count": 10,
   "metadata": {
    "collapsed": false
   },
   "outputs": [
    {
     "name": "stdout",
     "output_type": "stream",
     "text": [
      "[[-0.00484501  0.00387167 -0.01666614 -0.01205986 -0.00398059]\n",
      " [ 0.00155313  0.0092462  -0.00508466 -0.00637779  0.01823601]\n",
      " [ 0.00723364  0.01589077 -0.00374115  0.00383509 -0.01571632]\n",
      " [-0.00435936  0.00131329  0.01021689 -0.0257823   0.01058946]]\n",
      "[[ 0.]\n",
      " [ 0.]\n",
      " [ 0.]\n",
      " [ 0.]]\n",
      "{'W1': array([[-0.00484501,  0.00387167, -0.01666614, -0.01205986, -0.00398059],\n",
      "       [ 0.00155313,  0.0092462 , -0.00508466, -0.00637779,  0.01823601],\n",
      "       [ 0.00723364,  0.01589077, -0.00374115,  0.00383509, -0.01571632],\n",
      "       [-0.00435936,  0.00131329,  0.01021689, -0.0257823 ,  0.01058946]]), 'b1': array([[ 0.],\n",
      "       [ 0.],\n",
      "       [ 0.],\n",
      "       [ 0.]]), 'W2': array([[ 0.01846533, -0.00599272,  0.00880805, -0.00917375],\n",
      "       [-0.00959535,  0.0109254 ,  0.0062414 ,  0.00982684],\n",
      "       [ 0.02247013,  0.00042942, -0.00102507,  0.00221601]]), 'b2': array([[ 0.],\n",
      "       [ 0.],\n",
      "       [ 0.]])}\n"
     ]
    }
   ],
   "source": [
    "parameters = init([5, 4, 3])\n",
    "print(parameters[\"W1\"])\n",
    "print(parameters[\"b1\"])\n",
    "print(parameters)"
   ]
  },
  {
   "cell_type": "code",
   "execution_count": 11,
   "metadata": {
    "collapsed": true
   },
   "outputs": [],
   "source": [
    "def sigmoid(Z):\n",
    "    X = (1/(1+np.exp(-Z)))\n",
    "    return X"
   ]
  },
  {
   "cell_type": "code",
   "execution_count": 12,
   "metadata": {
    "collapsed": false
   },
   "outputs": [
    {
     "name": "stdout",
     "output_type": "stream",
     "text": [
      "[ 0.99330715  0.98201379  0.95257413]\n"
     ]
    }
   ],
   "source": [
    "print(sigmoid(np.array([5, 4, 3])))"
   ]
  },
  {
   "cell_type": "code",
   "execution_count": 13,
   "metadata": {
    "collapsed": true
   },
   "outputs": [],
   "source": [
    "def relu(Z):\n",
    "    X = np.maximum(0, Z)\n",
    "    return X"
   ]
  },
  {
   "cell_type": "code",
   "execution_count": 14,
   "metadata": {
    "collapsed": false
   },
   "outputs": [
    {
     "name": "stdout",
     "output_type": "stream",
     "text": [
      "[5 0 3]\n"
     ]
    }
   ],
   "source": [
    "print(relu(np.array([5, -4, 3])))"
   ]
  },
  {
   "cell_type": "code",
   "execution_count": 15,
   "metadata": {
    "collapsed": true
   },
   "outputs": [],
   "source": [
    "def forward(A, W, b, activation):\n",
    "    Z = np.dot(W, A)+b\n",
    "    if activation == \"sigmoid\":\n",
    "        A = sigmoid(Z)\n",
    "    elif activation == \"relu\":\n",
    "        A = relu(Z)\n",
    "    return A, Z"
   ]
  },
  {
   "cell_type": "code",
   "execution_count": 16,
   "metadata": {
    "collapsed": true
   },
   "outputs": [],
   "source": [
    "def forward_L(X, parameters):\n",
    "    prev_results = {}\n",
    "    A = X\n",
    "    L = len(parameters)//2\n",
    "    \n",
    "    for i in range(1, L):\n",
    "        A, Z = forward(A, parameters['W'+str(i)], parameters['b'+str(i)], \"relu\")\n",
    "        prev_results['Z'+str(i)] = Z\n",
    "        prev_results['A'+str(i)] = A\n",
    "    \n",
    "    AL, Z = forward(A, parameters['W'+str(L)], parameters['b'+str(L)], \"sigmoid\")\n",
    "    prev_results['Z'+str(L)] = Z\n",
    "    prev_results['A'+str(L)] = AL\n",
    "    prev_results['A'+str(0)] = X\n",
    "    \n",
    "    return AL, prev_results"
   ]
  },
  {
   "cell_type": "code",
   "execution_count": 17,
   "metadata": {
    "collapsed": true
   },
   "outputs": [],
   "source": [
    "def compute_cost(AL, Y):\n",
    "    m = Y.shape[1]\n",
    "    cost = (-1/m)*np.sum(Y*np.log(AL) + (1-Y)*np.log(1-AL))\n",
    "    cost = np.squeeze(cost)\n",
    "    return cost"
   ]
  },
  {
   "cell_type": "code",
   "execution_count": 18,
   "metadata": {
    "collapsed": true
   },
   "outputs": [],
   "source": [
    "def sigmoid_der(Z):\n",
    "    A = sigmoid(Z)\n",
    "    X = A*(1-A)\n",
    "    return X"
   ]
  },
  {
   "cell_type": "code",
   "execution_count": 19,
   "metadata": {
    "collapsed": false
   },
   "outputs": [],
   "source": [
    "def relu_der(Z):\n",
    "    X = 1*(Z>0)\n",
    "    return X"
   ]
  },
  {
   "cell_type": "code",
   "execution_count": 25,
   "metadata": {
    "collapsed": false
   },
   "outputs": [],
   "source": [
    "def backward(dA, W, b, Z, A, activation):\n",
    "    if activation == \"relu\":\n",
    "        dZ = dA*relu_der(Z)\n",
    "    elif activation == \"sigmoid\":\n",
    "        dZ = dA*sigmoid_der(Z)\n",
    "    \n",
    "    m = A.shape[1]\n",
    "    dW = (1/m)*np.dot(dZ, A.T)\n",
    "    db = (1/m)*np.sum(dZ, axis = 1, keepdims = True)\n",
    "    dA_prev = np.dot(W.T, dZ)\n",
    "    \n",
    "    return dA_prev, dW, db"
   ]
  },
  {
   "cell_type": "code",
   "execution_count": 26,
   "metadata": {
    "collapsed": false
   },
   "outputs": [],
   "source": [
    "def backward_L(AL, Y, parameters, prev_results):\n",
    "    grads = {}\n",
    "    L = len(parameters)//2\n",
    "    m = AL.shape[1]\n",
    "    dAL = -(np.divide(Y, AL) - np.divide(1-Y, 1-AL))\n",
    "    \n",
    "    W = parameters[\"W\"+str(L)]\n",
    "    b = parameters[\"b\"+str(L)]\n",
    "    Z = prev_results[\"Z\"+str(L)]\n",
    "    A = prev_results[\"A\"+str(L-1)]\n",
    "    grads[\"dA\"+str(L-1)], grads[\"dW\"+str(L)], grads[\"db\"+str(L)] = backward(dAL, W, b, Z, A, \"sigmoid\")\n",
    "    \n",
    "    for i in reversed(range(L-1)):\n",
    "        W = parameters[\"W\"+str(i+1)]\n",
    "        b = parameters[\"b\"+str(i+1)]\n",
    "        Z = prev_results[\"Z\"+str(i+1)]\n",
    "        A = prev_results[\"A\"+str(i)]\n",
    "        grads[\"dA\"+str(i)], grads[\"dW\"+str(i+1)], grads[\"db\"+str(i+1)] = backward(grads[\"dA\"+str(i+1)], W, b, Z, A, \"relu\")\n",
    "\n",
    "    return grads"
   ]
  },
  {
   "cell_type": "code",
   "execution_count": 27,
   "metadata": {
    "collapsed": false
   },
   "outputs": [],
   "source": [
    "def update_parameters(parameters, grads, alpha):\n",
    "    L = len(parameters)//2\n",
    "    for i in range(1, L+1):\n",
    "        parameters[\"W\"+str(i)] = parameters[\"W\"+str(i)] - alpha*grads[\"dW\"+str(i)]\n",
    "        parameters[\"b\"+str(i)] = parameters[\"b\"+str(i)] - alpha*grads[\"db\"+str(i)]\n",
    "    \n",
    "    return parameters"
   ]
  },
  {
   "cell_type": "code",
   "execution_count": 32,
   "metadata": {
    "collapsed": true
   },
   "outputs": [],
   "source": [
    "def nn_model_L(X, Y, layer_dims, alpha, num_iters):\n",
    "    parameters = init(layer_dims)\n",
    "    #stores all costs for future plotting\n",
    "    costs = []\n",
    "    for i in range(num_iters):\n",
    "        AL, prev_results = forward_L(X, parameters)\n",
    "        cost = compute_cost(AL, Y)\n",
    "        grads = backward_L(AL, Y, parameters, prev_results)\n",
    "        parameters = update_parameters(parameters, grads, alpha)\n",
    "        if i%10 == 0:\n",
    "            print(\"Cost after iteration %i: %f\" % (i,cost))\n",
    "            costs.append(cost)\n",
    "    \n",
    "    #plot the cost\n",
    "    plt.plot(np.squeeze(costs))\n",
    "    plt.ylabel('cost')\n",
    "    plt.xlabel('iterations (per tens)')\n",
    "    plt.title(\"Learning rate =\" + str(alpha))\n",
    "    plt.show()\n",
    "    return parameters"
   ]
  },
  {
   "cell_type": "code",
   "execution_count": 33,
   "metadata": {
    "collapsed": false
   },
   "outputs": [
    {
     "name": "stdout",
     "output_type": "stream",
     "text": [
      "Cost after iteration 0: 6.926155\n",
      "Cost after iteration 10: 4.745372\n",
      "Cost after iteration 20: 3.372011\n",
      "Cost after iteration 30: 3.362252\n",
      "Cost after iteration 40: 3.354877\n",
      "Cost after iteration 50: 3.347274\n",
      "Cost after iteration 60: 3.338487\n",
      "Cost after iteration 70: 3.327248\n",
      "Cost after iteration 80: 3.311702\n",
      "Cost after iteration 90: 3.289093\n",
      "Cost after iteration 100: 3.255441\n",
      "Cost after iteration 110: 3.205505\n",
      "Cost after iteration 120: 3.133764\n",
      "Cost after iteration 130: 3.037085\n",
      "Cost after iteration 140: 2.917207\n",
      "Cost after iteration 150: 2.782616\n",
      "Cost after iteration 160: 2.646136\n",
      "Cost after iteration 170: 2.517545\n",
      "Cost after iteration 180: 2.400607\n",
      "Cost after iteration 190: 2.295501\n",
      "Cost after iteration 200: 2.201403\n",
      "Cost after iteration 210: 2.117424\n",
      "Cost after iteration 220: 2.042442\n",
      "Cost after iteration 230: 1.975092\n",
      "Cost after iteration 240: 1.913889\n",
      "Cost after iteration 250: 1.857441\n",
      "Cost after iteration 260: 1.804548\n",
      "Cost after iteration 270: 1.754262\n",
      "Cost after iteration 280: 1.705959\n",
      "Cost after iteration 290: 1.659265\n",
      "Cost after iteration 300: 1.614038\n",
      "Cost after iteration 310: 1.570288\n",
      "Cost after iteration 320: 1.528178\n",
      "Cost after iteration 330: 1.487897\n",
      "Cost after iteration 340: 1.449618\n",
      "Cost after iteration 350: 1.413475\n",
      "Cost after iteration 360: 1.379569\n",
      "Cost after iteration 370: 1.347922\n",
      "Cost after iteration 380: 1.318500\n",
      "Cost after iteration 390: 1.291205\n",
      "Cost after iteration 400: 1.265914\n",
      "Cost after iteration 410: 1.242476\n",
      "Cost after iteration 420: 1.220687\n",
      "Cost after iteration 430: 1.200399\n",
      "Cost after iteration 440: 1.181449\n",
      "Cost after iteration 450: 1.163686\n",
      "Cost after iteration 460: 1.146983\n",
      "Cost after iteration 470: 1.131219\n",
      "Cost after iteration 480: 1.116289\n",
      "Cost after iteration 490: 1.102085\n"
     ]
    },
    {
     "data": {
      "image/png": "[encoded data removed]",
      "text/plain": [
       "<matplotlib.figure.Figure at 0x121838ba8>"
      ]
     },
     "metadata": {},
     "output_type": "display_data"
    }
   ],
   "source": [
    "parameters = nn_model_L(X_train, Y_train, [28*28, 20, 10], 0.05, 500)"
   ]
  },
  {
   "cell_type": "code",
   "execution_count": 34,
   "metadata": {
    "collapsed": false
   },
   "outputs": [
    {
     "name": "stdout",
     "output_type": "stream",
     "text": [
      "{'W1': array([[-0.00735345, -0.00478324,  0.00320114, ...,  0.00863417,\n",
      "        -0.00956539,  0.00014796],\n",
      "       [-0.00893956,  0.00120665, -0.00286905, ..., -0.01028267,\n",
      "        -0.0120223 ,  0.00582993],\n",
      "       [ 0.02521577,  0.0040945 ,  0.00108665, ...,  0.00560349,\n",
      "        -0.00926996,  0.00194681],\n",
      "       ..., \n",
      "       [ 0.00685308,  0.00653207,  0.00621172, ...,  0.01501593,\n",
      "        -0.017704  , -0.00685824],\n",
      "       [ 0.00371924, -0.00335823, -0.00915596, ..., -0.00865366,\n",
      "         0.00461352, -0.01580247],\n",
      "       [-0.01113254,  0.01706661, -0.01977018, ...,  0.0056232 ,\n",
      "        -0.00305263,  0.0046287 ]]), 'b1': array([[ 0.36700091],\n",
      "       [ 0.05504054],\n",
      "       [ 0.03625193],\n",
      "       [ 0.11643102],\n",
      "       [-0.00304428],\n",
      "       [ 0.00444063],\n",
      "       [ 0.27313881],\n",
      "       [-0.00139683],\n",
      "       [ 0.37154821],\n",
      "       [ 0.02880719],\n",
      "       [ 0.26598737],\n",
      "       [ 0.23532528],\n",
      "       [ 0.01917405],\n",
      "       [ 0.08849154],\n",
      "       [ 0.28631399],\n",
      "       [ 0.08617533],\n",
      "       [-0.00047381],\n",
      "       [ 0.22841575],\n",
      "       [-0.04163104],\n",
      "       [ 0.18479271]]), 'W2': array([[ -8.06354801e-01,  -7.04491323e-02,  -6.17929217e-02,\n",
      "         -1.46736824e-01,  -7.88805840e-03,   3.89312256e-03,\n",
      "         -5.66135240e-01,  -1.74295700e-01,   4.83304130e-01,\n",
      "         -1.95005855e-01,  -6.81717619e-01,  -2.51612714e-01,\n",
      "         -4.47739926e-02,   3.34720046e-02,  -6.28518894e-01,\n",
      "         -3.59803833e-01,  -3.32839785e-03,   2.40241743e-01,\n",
      "          9.17446111e-03,   8.58902481e-02],\n",
      "       [  8.24228598e-02,   4.02000112e-02,  -2.57428761e-01,\n",
      "          5.30337017e-01,   2.66293157e-05,   9.02025393e-04,\n",
      "         -3.13765598e-01,  -1.64090396e-01,  -1.12016406e+00,\n",
      "         -7.87004279e-02,   4.39630646e-01,  -1.86251002e-01,\n",
      "         -1.36306478e-02,  -3.66556101e-01,   1.56167944e-01,\n",
      "          3.60745340e-01,   2.12413965e-03,  -1.76022724e-01,\n",
      "         -8.16429322e-02,  -4.52091141e-01],\n",
      "       [ -1.67074666e-01,  -1.12859418e-01,   4.13369381e-01,\n",
      "         -1.69383890e-01,  -5.67957336e-04,   2.20192785e-02,\n",
      "         -1.92216333e-01,  -2.82569320e-01,  -1.39190871e-01,\n",
      "         -1.61300971e-01,   6.70088649e-01,  -1.45890448e-01,\n",
      "         -1.49617351e-01,   3.66591693e-02,  -6.73835541e-01,\n",
      "         -6.87916107e-01,  -6.13123342e-03,  -1.56548581e-01,\n",
      "          2.08683916e-01,  -4.24419517e-01],\n",
      "       [ -9.84515525e-01,  -1.77371338e-01,  -1.20844872e-01,\n",
      "         -1.01114591e-01,   2.86147439e-03,  -7.44346397e-02,\n",
      "          4.81194305e-01,  -1.16729181e-01,  -9.90249773e-03,\n",
      "          6.07303254e-02,   1.59503291e-01,  -7.77393877e-01,\n",
      "         -1.08199934e-01,  -2.70683286e-01,   2.10169820e-01,\n",
      "          1.34408961e-01,  -1.06694983e-02,  -1.97078658e-01,\n",
      "          1.93266548e-01,  -4.34510465e-01],\n",
      "       [  4.40547112e-01,  -2.02419428e-01,  -1.40067672e-01,\n",
      "         -2.51424106e-01,   5.30791668e-03,  -5.67770173e-02,\n",
      "         -1.95216309e-01,   3.12561141e-01,  -3.83390193e-01,\n",
      "          3.45167990e-01,  -8.54456346e-01,   2.85278137e-01,\n",
      "          1.87729384e-02,   3.26273012e-02,  -8.11907193e-02,\n",
      "         -2.95962309e-01,   1.34701838e-03,  -5.54875533e-01,\n",
      "         -1.93404690e-02,  -8.47855136e-02],\n",
      "       [ -5.60744866e-01,  -9.50985548e-02,  -3.34386964e-01,\n",
      "         -1.65851032e-01,   9.71768352e-03,   2.99664570e-02,\n",
      "         -1.97067984e-01,   2.50923092e-01,  -7.53265324e-02,\n",
      "          4.75803663e-02,  -5.25972252e-01,  -2.00521460e-01,\n",
      "          2.39587842e-01,   7.35897096e-02,  -1.79747707e-01,\n",
      "          5.70966092e-01,  -6.45241899e-03,   7.71490405e-04,\n",
      "         -4.37996685e-02,  -2.70619291e-01],\n",
      "       [  6.46427362e-01,   4.35413792e-01,  -1.02079311e-01,\n",
      "         -1.36609143e-01,  -7.02023962e-03,  -2.97796580e-02,\n",
      "         -5.69274373e-01,   2.84182137e-01,  -1.16321177e-01,\n",
      "         -1.90771900e-01,  -3.10850030e-01,  -7.10253236e-01,\n",
      "          5.41113548e-02,   4.28682439e-01,  -6.03394788e-01,\n",
      "         -1.66801400e-01,  -2.10865572e-03,  -3.23065089e-01,\n",
      "         -1.97005382e-01,  -1.57241570e-01],\n",
      "       [ -5.55877791e-01,  -2.78527267e-02,   2.49040696e-01,\n",
      "         -1.63085197e-01,   1.46808051e-03,   4.02223763e-02,\n",
      "          1.39237323e-01,  -4.42431304e-01,  -5.14351210e-01,\n",
      "         -1.17262860e-01,  -3.15164854e-01,   2.33425300e-01,\n",
      "         -1.29236510e-01,  -6.68485008e-01,   3.75566730e-01,\n",
      "         -2.86931187e-01,  -3.35301881e-03,   1.73134570e-01,\n",
      "         -8.57885427e-02,   5.23368856e-01],\n",
      "       [ -4.91802892e-01,  -1.28296647e-01,  -5.84205910e-02,\n",
      "         -1.73664372e-01,   4.03767246e-03,   8.58523463e-02,\n",
      "         -1.77518092e-01,   3.40237257e-01,  -3.68668855e-01,\n",
      "         -5.30589592e-03,  -3.30525683e-04,   4.74139377e-01,\n",
      "          6.11538639e-02,   5.94991377e-02,  -4.54224362e-01,\n",
      "          3.43101701e-01,  -7.64135173e-03,  -1.39164932e-01,\n",
      "          2.04303903e-01,  -5.28212097e-01],\n",
      "       [ -4.51975854e-05,  -2.08382602e-02,   2.90253037e-01,\n",
      "         -3.26301487e-01,   3.60892146e-03,  -3.74822052e-02,\n",
      "          6.00773006e-02,   8.39928864e-02,  -5.15468636e-01,\n",
      "          2.20127967e-01,  -6.79998271e-01,   8.10694593e-02,\n",
      "          4.87321511e-02,  -9.15908579e-02,   1.54496128e-01,\n",
      "          1.59755717e-01,   1.07433842e-02,  -3.70033326e-01,\n",
      "         -2.77467345e-03,   1.27428781e-01]]), 'b2': array([[-0.45575393],\n",
      "       [-0.13246206],\n",
      "       [-0.48438597],\n",
      "       [-0.50736042],\n",
      "       [-0.32822776],\n",
      "       [-0.25863978],\n",
      "       [-0.4132575 ],\n",
      "       [-0.28422273],\n",
      "       [-0.77592928],\n",
      "       [-0.46431954]])}\n"
     ]
    }
   ],
   "source": [
    "print(parameters)"
   ]
  },
  {
   "cell_type": "code",
   "execution_count": 55,
   "metadata": {
    "collapsed": false
   },
   "outputs": [],
   "source": [
    "def predict(X, Y):\n",
    "    AL, prev_results = forward_L(X, parameters)\n",
    "    #use AL and Y to get the accuracy\n",
    "    AL = (AL == AL.max(axis=0))*1\n",
    "    m = AL.shape[1]\n",
    "    accuracy = (100/m)*np.sum(np.logical_and(AL,Y))\n",
    "    print(str(accuracy)+\"%\")\n",
    "\n",
    "    return accuracy"
   ]
  },
  {
   "cell_type": "code",
   "execution_count": 56,
   "metadata": {
    "collapsed": false
   },
   "outputs": [
    {
     "name": "stdout",
     "output_type": "stream",
     "text": [
      "85.85%\n"
     ]
    },
    {
     "data": {
      "text/plain": [
       "85.850000000000009"
      ]
     },
     "execution_count": 56,
     "metadata": {},
     "output_type": "execute_result"
    }
   ],
   "source": [
    "predict(X_test, Y_test)"
   ]
  },
  {
   "cell_type": "code",
   "execution_count": 57,
   "metadata": {
    "collapsed": false
   },
   "outputs": [
    {
     "name": "stdout",
     "output_type": "stream",
     "text": [
      "85.2616666667%\n"
     ]
    },
    {
     "data": {
      "text/plain": [
       "85.26166666666667"
      ]
     },
     "execution_count": 57,
     "metadata": {},
     "output_type": "execute_result"
    }
   ],
   "source": [
    "predict(X_train, Y_train)"
   ]
  },
  {
   "cell_type": "code",
   "execution_count": null,
   "metadata": {
    "collapsed": true
   },
   "outputs": [],
   "source": []
  }
 ],
 "metadata": {
  "kernelspec": {
   "display_name": "Python 3",
   "language": "python",
   "name": "python3"
  },
  "language_info": {
   "codemirror_mode": {
    "name": "ipython",
    "version": 3
   },
   "file_extension": ".py",
   "mimetype": "text/x-python",
   "name": "python",
   "nbconvert_exporter": "python",
   "pygments_lexer": "ipython3",
   "version": "3.6.2"
  }
 },
 "nbformat": 4,
 "nbformat_minor": 2
}
